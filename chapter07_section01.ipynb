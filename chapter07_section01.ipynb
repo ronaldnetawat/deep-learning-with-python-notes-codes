{
  "nbformat": 4,
  "nbformat_minor": 0,
  "metadata": {
    "colab": {
      "provenance": []
    },
    "kernelspec": {
      "name": "python3",
      "display_name": "Python 3"
    },
    "language_info": {
      "name": "python"
    }
  },
  "cells": [
    {
      "cell_type": "markdown",
      "source": [
        "# **Chapter 7: Working with Keras: A deep dive**\n",
        "---\n",
        "\n",
        "- We now have some experience with `compile()`, `fit()`, `evaluate()`, `predict()`, etc.\n",
        "- In chapter 3 we learned how to inherit from the `Layer` class to create custom layers and use `GradientTape` to implement a step-by-step training loop.\n",
        "- In coming chapters, we'll delve into computer vision, timeseries forecasting, NLP, and generative DL.\n",
        "- These complex problems require much more than the `Sequential` architecture and the default `fit()` loop.\n",
        "- Let's get a complete overview of the key ways to work with Keras APIs: everything we'll need to handle advanced DL use cases we'll encounter next."
      ],
      "metadata": {
        "id": "DWie2LkBiOSl"
      }
    },
    {
      "cell_type": "markdown",
      "source": [
        "# 7.1 A spectrum of workflows\n",
        "\n",
        "- Keras API guided by *progressive disclosure of complexity*: easy to get started, possible to handle high-complexity use cases.\n",
        "- Simple use cases are easy and approachable, and advanced ones are *possible*.\n",
        "- Every problem should have a clear path to it that builds upon the learnings of simpler workflows.\n",
        "- No single \"true\" workflow of using Keras. It offers a *spectrum of workflows*.\n",
        "- Since all workflows are based on shared APIs like `Layer` and `Model`, components of any workflow can be used in another one—they can talk to each other."
      ],
      "metadata": {
        "id": "I-t19P-GkAkC"
      }
    },
    {
      "cell_type": "code",
      "execution_count": null,
      "metadata": {
        "id": "hnDOBlvAiLnk"
      },
      "outputs": [],
      "source": []
    }
  ]
}